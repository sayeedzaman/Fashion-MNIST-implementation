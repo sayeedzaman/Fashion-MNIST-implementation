{
 "cells": [
  {
   "cell_type": "code",
   "execution_count": 317,
   "metadata": {},
   "outputs": [
    {
     "data": {
      "text/plain": [
       "<torch._C.Generator at 0x16cb231cbf0>"
      ]
     },
     "execution_count": 317,
     "metadata": {},
     "output_type": "execute_result"
    }
   ],
   "source": [
    "import numpy as np\n",
    "import pandas as pd\n",
    "import matplotlib.pyplot as plt\n",
    "import seaborn as sns\n",
    "from tqdm import tqdm\n",
    "import pickle\n",
    "import torch\n",
    "from torchvision import datasets, transforms\n",
    "from sklearn.metrics import confusion_matrix, f1_score\n",
    "\n",
    "# Set random seed for reproducibility\n",
    "np.random.seed(42)\n",
    "torch.manual_seed(42)\n"
   ]
  },
  {
   "cell_type": "markdown",
   "metadata": {},
   "source": [
    "# Adam Optimizer"
   ]
  },
  {
   "cell_type": "code",
   "execution_count": 318,
   "metadata": {},
   "outputs": [],
   "source": [
    "class Adam:\n",
    "    def __init__(self, learning_rate=0.001, beta1=0.9, beta2=0.999, epsilon=1e-8):\n",
    "        self.learning_rate = learning_rate\n",
    "        self.beta1 = beta1\n",
    "        self.beta2 = beta2\n",
    "        self.epsilon = epsilon\n",
    "        self.t = 0\n",
    "\n",
    "    def update(self, param, grad, m, v):\n",
    "        self.t += 1\n",
    "        \n",
    "        m = self.beta1 * m + (1 - self.beta1) * grad\n",
    "        v = self.beta2 * v + (1 - self.beta2) * np.square(grad)\n",
    "        \n",
    "        m_hat = m / (1 - self.beta1**self.t)\n",
    "        v_hat = v / (1 - self.beta2**self.t)\n",
    "        \n",
    "        param -= self.learning_rate * m_hat / (np.sqrt(v_hat) + self.epsilon)\n",
    "        \n",
    "        return param, m, v"
   ]
  },
  {
   "cell_type": "markdown",
   "metadata": {},
   "source": [
    "# Dense Layer"
   ]
  },
  {
   "cell_type": "code",
   "execution_count": 319,
   "metadata": {},
   "outputs": [],
   "source": [
    "class DenseLayer :\n",
    "    def __init__(self, input_dimension, output_dimension, learning_rate=0.001):\n",
    "        self.input_dimension = input_dimension\n",
    "        self.output_dimension = output_dimension\n",
    "        self.weights = np.random.randn(input_dimension, output_dimension) * np.sqrt(2.0 / input_dimension)\n",
    "        self.output = None\n",
    "        self.input = None\n",
    "        self.biases = np.zeros((1, output_dimension))\n",
    "        self.adam = Adam(learning_rate=learning_rate)\n",
    "        \n",
    "        # For Adam optimizer\n",
    "        self.m_w = np.zeros_like(self.weights)\n",
    "        self.v_w = np.zeros_like(self.weights)\n",
    "        self.m_b = np.zeros_like(self.biases)\n",
    "        self.v_b = np.zeros_like(self.biases)\n",
    "\n",
    "    def forward(self, input):\n",
    "        self.input = input\n",
    "        self.output = np.dot(input, self.weights) + self.biases\n",
    "        return self.output\n",
    "    \n",
    "    def backward(self, upstream_gradient):\n",
    "        gradient_weights = np.dot(self.input.T, upstream_gradient)\n",
    "        gradient_biases = np.sum(upstream_gradient, axis=0, keepdims=True)\n",
    "        gradient_input = np.dot(upstream_gradient, self.weights.T)\n",
    "        self.weights, self.m_w, self.v_w = self.adam.update(self.weights, gradient_weights, self.m_w, self.v_w)\n",
    "        self.biases, self.m_b, self.v_b = self.adam.update(self.biases, gradient_biases, self.m_b, self.v_b)\n",
    "        \n",
    "        return gradient_input\n"
   ]
  },
  {
   "cell_type": "markdown",
   "metadata": {},
   "source": [
    "# Batch Normalization"
   ]
  },
  {
   "cell_type": "code",
   "execution_count": 320,
   "metadata": {},
   "outputs": [],
   "source": [
    "class BatchNormalization:\n",
    "    def __init__(self, input_dimension, epsilon=1e-8, momentum=0.9, learning_rate=0.001):\n",
    "        self.input_dimension = input_dimension\n",
    "        self.epsilon = epsilon\n",
    "        self.momentum = momentum\n",
    "        self.beta = np.zeros((1, input_dimension))\n",
    "        self.gamma = np.ones((1, input_dimension))\n",
    "        self.batch_mean = None\n",
    "        self.batch_variance = None\n",
    "        self.normalized_input = None\n",
    "        self.output = None\n",
    "        self.running_mean = np.zeros((1, input_dimension))\n",
    "        self.running_variance = np.ones((1, input_dimension))\n",
    "        # For Adam optimizer\n",
    "        self.m_gamma = np.zeros_like(self.gamma)\n",
    "        self.v_gamma = np.zeros_like(self.gamma)\n",
    "        self.m_beta = np.zeros_like(self.beta)\n",
    "        self.v_beta = np.zeros_like(self.beta)\n",
    "        self.adam = Adam(learning_rate=learning_rate)\n",
    "    \n",
    "    def forward(self, input, training=True):\n",
    "        self.input = input\n",
    "        if training:\n",
    "            self.batch_mean = np.mean(input, axis=0)\n",
    "            self.batch_variance = np.var(input, axis=0)\n",
    "            self.running_mean = self.momentum * self.running_mean + (1 - self.momentum) * self.batch_mean\n",
    "            self.running_variance = self.momentum * self.running_variance + (1 - self.momentum) * self.batch_variance\n",
    "            mean = self.batch_mean\n",
    "            variance = self.batch_variance\n",
    "        else:\n",
    "            mean = self.running_mean\n",
    "            variance = self.running_variance\n",
    "        self.normalized_input = (input - mean) / np.sqrt(variance + self.epsilon)\n",
    "        self.output = self.gamma * self.normalized_input + self.beta\n",
    "        return self.output\n",
    "    \n",
    "    def backward(self, upstream_gradient):\n",
    "        batch_size = upstream_gradient.shape[0]\n",
    "        gradient_normalized_input = upstream_gradient * self.gamma\n",
    "        gradient_variance = np.sum(gradient_normalized_input * (self.input - self.batch_mean) * -0.5 * np.power(self.batch_variance+self.epsilon, -1.5), axis=0)\n",
    "        gradient_mean = np.sum(gradient_normalized_input * -1 / np.sqrt(self.batch_variance+self.epsilon), axis=0) + gradient_variance * np.mean(-2 * (self.input - self.batch_mean), axis=0)\n",
    "        gradient_input = gradient_normalized_input / np.sqrt(self.batch_variance+self.epsilon) + gradient_variance * 2 * (self.input - self.batch_mean) / batch_size + gradient_mean / batch_size\n",
    "        gradiant_gamma= np.sum(upstream_gradient * self.normalized_input, axis=0)\n",
    "        gradiant_beta =  np.sum(upstream_gradient, axis=0)\n",
    "        self.gamma, self.m_gamma, self.v_gamma = self.adam.update(self.gamma, gradiant_gamma, self.m_gamma, self.v_gamma)\n",
    "        self.beta, self.m_beta, self.v_beta = self.adam.update(self.beta, gradiant_beta, self.m_beta, self.v_beta)\n",
    "        return gradient_input\n"
   ]
  },
  {
   "cell_type": "markdown",
   "metadata": {},
   "source": [
    "# RELU"
   ]
  },
  {
   "cell_type": "code",
   "execution_count": 321,
   "metadata": {},
   "outputs": [],
   "source": [
    "class ReLU:\n",
    "    def __init__(self):\n",
    "        self.input = None\n",
    "        self.output = None\n",
    "    \n",
    "    def forward(self, input):\n",
    "        self.input = input\n",
    "        self.output = np.maximum(0, input)\n",
    "        return self.output\n",
    "    \n",
    "    def backward(self, gradient):\n",
    "        return gradient * (self.input > 0)"
   ]
  },
  {
   "cell_type": "markdown",
   "metadata": {},
   "source": [
    "# DropOut"
   ]
  },
  {
   "cell_type": "code",
   "execution_count": 322,
   "metadata": {},
   "outputs": [],
   "source": [
    "class Dropout:\n",
    "    def __init__(self, dropout_rate=0.5):\n",
    "        self.dropout_rate = dropout_rate\n",
    "        self.mask = None\n",
    "        self.input = None\n",
    "        self.output = None\n",
    "    \n",
    "    def forward(self, input, training=True):\n",
    "        self.input = input\n",
    "        if training:\n",
    "            self.mask = np.random.rand(*input.shape) > self.dropout_rate\n",
    "            self.output = input * self.mask / (1 - self.dropout_rate)\n",
    "        else:\n",
    "            self.output = input\n",
    "        return self.output\n",
    "    \n",
    "    def backward(self, upstream_gradient):\n",
    "        return upstream_gradient * self.mask / (1 - self.dropout_rate)"
   ]
  },
  {
   "cell_type": "markdown",
   "metadata": {},
   "source": [
    "# SoftMax"
   ]
  },
  {
   "cell_type": "code",
   "execution_count": 323,
   "metadata": {},
   "outputs": [],
   "source": [
    "class Softmax:\n",
    "    def __init__(self):\n",
    "        self.input = None\n",
    "        self.output = None\n",
    "        self.exp_values = None\n",
    "\n",
    "    def forward(self, input):\n",
    "        self.input = input\n",
    "        self.exp_values = np.exp(input - np.max(input, axis=1, keepdims=True))\n",
    "        self.output = self.exp_values / np.sum(self.exp_values, axis=1, keepdims=True)\n",
    "        return self.output\n",
    "\n",
    "    def backward(self, y_labels):\n",
    "        batch_size = self.output.shape[0]\n",
    "        grad = self.output.copy()\n",
    "        grad[range(batch_size), y_labels] -= 1\n",
    "        return grad / batch_size\n",
    "        "
   ]
  },
  {
   "cell_type": "markdown",
   "metadata": {},
   "source": [
    "# Neural Network"
   ]
  },
  {
   "cell_type": "code",
   "execution_count": 324,
   "metadata": {},
   "outputs": [],
   "source": [
    "class NeuralNetwork:\n",
    "    def __init__(self):\n",
    "        self.layers = []\n",
    "\n",
    "    def add(self, layer):\n",
    "        self.layers.append(layer)\n",
    "\n",
    "    def forward(self, X, training=True):\n",
    "        for layer in self.layers:\n",
    "            if isinstance(layer, Dropout):\n",
    "                X = layer.forward(X, training)\n",
    "            else:\n",
    "                X = layer.forward(X)\n",
    "        return X\n",
    "\n",
    "    def backward(self, gradient):\n",
    "        for layer in reversed(self.layers):\n",
    "            gradient = layer.backward(gradient)\n",
    "\n",
    "    def save_weights(self, filename):\n",
    "        weights_and_biases = []\n",
    "        for layer in self.layers:\n",
    "            if isinstance(layer, DenseLayer):\n",
    "                weights_and_biases.append(layer.weights)\n",
    "                weights_and_biases.append(layer.biases)\n",
    "            if isinstance(layer, BatchNormalization):\n",
    "                weights_and_biases.append(layer.gamma)\n",
    "                weights_and_biases.append(layer.beta)\n",
    "        with open(filename, 'wb') as f:\n",
    "            pickle.dump(weights_and_biases, f)\n",
    "        \n",
    "    def load_weights(self, filename):\n",
    "        with open(filename, 'rb') as f:\n",
    "            weights_and_biases = pickle.load(f)\n",
    "        # print(len(weights_and_biases))\n",
    "        # print()\n",
    "        # print(weights_and_biases)\n",
    "        j=0\n",
    "        for i, layer in enumerate(self.layers):\n",
    "            if isinstance(layer, DenseLayer):\n",
    "                # print('weights_and_biases[2*j]', [2*j])\n",
    "                layer.weights = weights_and_biases[2*j]\n",
    "                layer.biases = weights_and_biases[2*j+1]\n",
    "                j+=1\n",
    "            if isinstance(layer, BatchNormalization):\n",
    "                # print('weights_and_biases[2*j]', [2*j])\n",
    "                layer.gamma = weights_and_biases[2*j]\n",
    "                layer.beta = weights_and_biases[2*j+1]\n",
    "                j+=1"
   ]
  },
  {
   "cell_type": "code",
   "execution_count": null,
   "metadata": {},
   "outputs": [],
   "source": [
    "def load_fashion_mnist():\n",
    "    train_dataset = datasets.FashionMNIST(root='./data', train=True, download=True)  \n",
    "    X_train = train_dataset.data.numpy().reshape(-1, 28*28) / 255.0\n",
    "    y_train = train_dataset.targets.numpy()\n",
    "    test_dataset = datasets.FashionMNIST(root='./data', train=False, download=True)\n",
    "    X_test = test_dataset.data.numpy().reshape(-1, 28*28) / 255.0\n",
    "    y_test = test_dataset.targets.numpy()\n",
    "    \n",
    "    return (X_train, y_train), (X_test, y_test)"
   ]
  },
  {
   "cell_type": "code",
   "execution_count": 326,
   "metadata": {},
   "outputs": [],
   "source": [
    "def create_batches(X, y, batch_size):\n",
    "    indices = np.random.permutation(len(X))\n",
    "    for i in range(0, len(X), batch_size):\n",
    "        batch_idx = indices[i:i + batch_size]\n",
    "        yield X[batch_idx], y[batch_idx]"
   ]
  },
  {
   "cell_type": "code",
   "execution_count": 327,
   "metadata": {},
   "outputs": [],
   "source": [
    "# Define model architecture\n",
    "def create_model(input_dim=784, hidden_dims=[512, 256], output_dim=10, dropout_rate=0.3, learning_rate=0.001):\n",
    "    model = NeuralNetwork()\n",
    "    \n",
    "    # Input layer\n",
    "    model.add(DenseLayer(input_dim, hidden_dims[0], learning_rate=learning_rate))\n",
    "    model.add(BatchNormalization(hidden_dims[0], learning_rate=learning_rate))\n",
    "    model.add(ReLU())\n",
    "    model.add(Dropout(dropout_rate))\n",
    "    \n",
    "    # Hidden layers\n",
    "    for i in range(len(hidden_dims)-1):\n",
    "        model.add(DenseLayer(hidden_dims[i], hidden_dims[i+1], learning_rate=learning_rate))\n",
    "        model.add(BatchNormalization(hidden_dims[i+1], learning_rate=learning_rate))\n",
    "        model.add(ReLU())\n",
    "        model.add(Dropout(dropout_rate))\n",
    "    \n",
    "    # Output layer\n",
    "    model.add(DenseLayer(hidden_dims[-1], output_dim, learning_rate=learning_rate))\n",
    "    model.add(Softmax())\n",
    "\n",
    "    return model"
   ]
  },
  {
   "cell_type": "markdown",
   "metadata": {},
   "source": [
    "# Evaluate function\n"
   ]
  },
  {
   "cell_type": "code",
   "execution_count": 328,
   "metadata": {},
   "outputs": [],
   "source": [
    "def predict(model, X, y, training=False):\n",
    "    output = model.forward(X, training)\n",
    "    predicted_class = np.argmax(output, axis=1)\n",
    "    loss = np.mean(-np.log(output[range(len(y)), y]))\n",
    "    return predicted_class, loss\n",
    "\n",
    "# evaluate function\n",
    "def evaluate(model, X, y, batch_size=128):\n",
    "    total_loss = 0\n",
    "    predictions = []\n",
    "#     criterion = CrossEntropyLoss()\n",
    "    \n",
    "    for i in range(0, len(X), batch_size):\n",
    "        batch_X = X[i:i + batch_size]\n",
    "        batch_y = y[i:i + batch_size]\n",
    "        \n",
    "        pred, loss = predict(model, batch_X, batch_y)\n",
    "        total_loss += loss * len(batch_X)\n",
    "        \n",
    "        predictions.extend(pred)\n",
    "    \n",
    "    acc = np.mean(np.array(predictions) == y)\n",
    "    avg_loss = total_loss / len(X)\n",
    "    macro_f1 = f1_score(y, predictions, average='macro')\n",
    "    \n",
    "    return avg_loss, acc, macro_f1, predictions\n",
    "\n"
   ]
  },
  {
   "cell_type": "code",
   "execution_count": 329,
   "metadata": {},
   "outputs": [],
   "source": [
    "# Training function\n",
    "def train_model(model, X_train, y_train, X_val, y_val, epochs=30, batch_size=128, learning_rate=0.001):\n",
    "\n",
    "    history = {\n",
    "        'train_loss': [], 'train_acc': [], 'train_f1': [],\n",
    "        'val_loss': [], 'val_acc': [], 'val_f1': []\n",
    "    }\n",
    "    \n",
    "    for epoch in range(epochs):\n",
    "        # Training\n",
    "        train_losses = []\n",
    "        train_predictions = []\n",
    "        \n",
    "        for batch_X, batch_y in tqdm(create_batches(X_train, y_train, batch_size), \n",
    "                                   desc=f'Epoch {epoch+1}/{epochs}'):\n",
    "            # Forward pass\n",
    "            pred, loss = predict(model, batch_X, batch_y, training=True)\n",
    "            train_losses.append(loss)\n",
    "            \n",
    "            # Store predictions\n",
    "            train_predictions.extend(pred)\n",
    "            \n",
    "            # Backward pass\n",
    "#             grad = criterion.backward(batch_y)\n",
    "            model.backward(batch_y)\n",
    "#             model.update_parameters()\n",
    "        \n",
    "        # Calculate training metrics\n",
    "        train_loss = np.mean(train_losses)\n",
    "        train_acc = np.mean(np.array(train_predictions) == y_train[:len(train_predictions)])\n",
    "        train_f1 = f1_score(y_train[:len(train_predictions)], train_predictions, average='macro')\n",
    "        \n",
    "        # Validation metrics\n",
    "        val_loss, val_acc, val_f1, _ = evaluate(model, X_val, y_val, batch_size)\n",
    "        \n",
    "        # Store metrics\n",
    "        history['train_loss'].append(train_loss)\n",
    "        history['train_acc'].append(train_acc)\n",
    "        history['train_f1'].append(train_f1)\n",
    "        history['val_loss'].append(val_loss)\n",
    "        history['val_acc'].append(val_acc)\n",
    "        history['val_f1'].append(val_f1)\n",
    "        \n",
    "        print(f'\\nEpoch {epoch+1}/{epochs}:')\n",
    "        print(f'Train Loss: {train_loss:.4f}, Train Acc: {train_acc:.4f}, Train F1: {train_f1:.4f}')\n",
    "        print(f'Val Loss: {val_loss:.4f}, Val Acc: {val_acc:.4f}, Val F1: {val_f1:.4f}')\n",
    "    \n",
    "    return history"
   ]
  },
  {
   "cell_type": "code",
   "execution_count": 330,
   "metadata": {},
   "outputs": [],
   "source": [
    "def find_best_model(learning_rates, architectures, X_train, y_train, X_val, y_val):\n",
    "    results = {}\n",
    "    best_val_f1 = 0\n",
    "    best_model = None\n",
    "    best_config = None\n",
    "\n",
    "    for lr in learning_rates:\n",
    "        for i, arch in enumerate(architectures):\n",
    "            print(f\"\\nTraining model with lr={lr} and architecture {i+1}/{len(architectures)}\")\n",
    "\n",
    "            model = create_model(**arch, learning_rate=lr)\n",
    "            history = train_model(model, X_train, y_train, X_val, y_val, learning_rate=lr)\n",
    "\n",
    "            val_f1 = history['val_f1'][-1]\n",
    "            print(f\"Validation F1 Score: {val_f1:.4f}\")\n",
    "\n",
    "            results[f'lr_{lr}_arch_{i+1}'] = {\n",
    "                'history': history,\n",
    "                'val_f1': val_f1\n",
    "            }\n",
    "\n",
    "            if val_f1 > best_val_f1:\n",
    "                best_val_f1 = val_f1\n",
    "                best_model = model\n",
    "                best_config = {'lr': lr, 'arch': arch}\n",
    "\n",
    "            # Generate and save the 4 figures\n",
    "            plt.figure(figsize=(12, 4))\n",
    "\n",
    "            # Accuracy\n",
    "            plt.subplot(1, 4, 1)\n",
    "            plt.plot(history['train_acc'], label='Train')\n",
    "            plt.plot(history['val_acc'], label='Val')\n",
    "            plt.title('Accuracy')\n",
    "            plt.xlabel('Epoch')\n",
    "            plt.ylabel('Accuracy')\n",
    "            plt.legend()\n",
    "\n",
    "            # Loss\n",
    "            plt.subplot(1, 4, 2)\n",
    "            plt.plot(history['train_loss'], label='Train')\n",
    "            plt.plot(history['val_loss'], label='Val')\n",
    "            plt.title('Loss')\n",
    "            plt.xlabel('Epoch')\n",
    "            plt.ylabel('Loss')\n",
    "            plt.legend()\n",
    "\n",
    "            # F1 Score\n",
    "            plt.subplot(1, 4, 3)\n",
    "            plt.plot(history['train_f1'], label='Train')\n",
    "            plt.plot(history['val_f1'], label='Val')\n",
    "            plt.title('F1 Score')\n",
    "            plt.xlabel('Epoch')\n",
    "            plt.ylabel('F1 Score')\n",
    "            plt.legend()\n",
    "\n",
    "            # Confusion Matrix\n",
    "            plt.subplot(1, 4, 4)\n",
    "            _, _, _, val_predictions = evaluate(model, X_val, y_val, batch_size=128)\n",
    "            cm = confusion_matrix(y_val, val_predictions)\n",
    "            sns.heatmap(cm, annot=True, cmap='Blues', fmt='g')\n",
    "            plt.title('Confusion Matrix')\n",
    "            plt.xlabel('Predicted')\n",
    "            plt.ylabel('Actual')\n",
    "\n",
    "            plt.tight_layout()\n",
    "            plt.show()\n",
    "            plt.close()\n",
    "\n",
    "    print(f\"\\nBest model configuration: {best_config}\")\n",
    "    print(f\"Best validation F1 score: {best_val_f1:.4f}\")\n",
    "\n",
    "    # Save the best model\n",
    "    best_model.save_weights('best_model_weights.pkl')\n",
    "    # Save the config\n",
    "    with open('best_model_config.pkl', 'wb') as f:\n",
    "        pickle.dump(best_config, f)\n",
    "\n",
    "    return results, best_model, best_config"
   ]
  },
  {
   "cell_type": "code",
   "execution_count": null,
   "metadata": {},
   "outputs": [
    {
     "name": "stdout",
     "output_type": "stream",
     "text": [
      "\n",
      "Training model with lr=0.001 and architecture 1/1\n"
     ]
    },
    {
     "name": "stderr",
     "output_type": "stream",
     "text": [
      "Epoch 1/30: 391it [00:21, 18.31it/s]\n"
     ]
    },
    {
     "name": "stdout",
     "output_type": "stream",
     "text": [
      "\n",
      "Epoch 1/30:\n",
      "Train Loss: 0.5149, Train Acc: 0.0984, Train F1: 0.0984\n",
      "Val Loss: 0.3848, Val Acc: 0.8595, Val F1: 0.8583\n"
     ]
    },
    {
     "name": "stderr",
     "output_type": "stream",
     "text": [
      "Epoch 2/30: 391it [00:22, 17.33it/s]\n"
     ]
    },
    {
     "name": "stdout",
     "output_type": "stream",
     "text": [
      "\n",
      "Epoch 2/30:\n",
      "Train Loss: 0.3837, Train Acc: 0.0990, Train F1: 0.0989\n",
      "Val Loss: 0.3499, Val Acc: 0.8702, Val F1: 0.8701\n"
     ]
    },
    {
     "name": "stderr",
     "output_type": "stream",
     "text": [
      "Epoch 3/30: 391it [00:21, 18.41it/s]\n"
     ]
    },
    {
     "name": "stdout",
     "output_type": "stream",
     "text": [
      "\n",
      "Epoch 3/30:\n",
      "Train Loss: 0.3444, Train Acc: 0.0996, Train F1: 0.0996\n",
      "Val Loss: 0.3371, Val Acc: 0.8751, Val F1: 0.8737\n"
     ]
    },
    {
     "name": "stderr",
     "output_type": "stream",
     "text": [
      "Epoch 4/30: 391it [00:21, 18.13it/s]\n"
     ]
    },
    {
     "name": "stdout",
     "output_type": "stream",
     "text": [
      "\n",
      "Epoch 4/30:\n",
      "Train Loss: 0.3240, Train Acc: 0.1007, Train F1: 0.1007\n",
      "Val Loss: 0.3154, Val Acc: 0.8829, Val F1: 0.8827\n"
     ]
    },
    {
     "name": "stderr",
     "output_type": "stream",
     "text": [
      "Epoch 5/30: 391it [00:23, 16.36it/s]\n"
     ]
    },
    {
     "name": "stdout",
     "output_type": "stream",
     "text": [
      "\n",
      "Epoch 5/30:\n",
      "Train Loss: 0.3004, Train Acc: 0.0990, Train F1: 0.0990\n",
      "Val Loss: 0.3216, Val Acc: 0.8821, Val F1: 0.8829\n"
     ]
    },
    {
     "name": "stderr",
     "output_type": "stream",
     "text": [
      "Epoch 6/30: 391it [00:20, 19.21it/s]\n"
     ]
    },
    {
     "name": "stdout",
     "output_type": "stream",
     "text": [
      "\n",
      "Epoch 6/30:\n",
      "Train Loss: 0.2846, Train Acc: 0.0987, Train F1: 0.0987\n",
      "Val Loss: 0.3139, Val Acc: 0.8854, Val F1: 0.8859\n"
     ]
    },
    {
     "name": "stderr",
     "output_type": "stream",
     "text": [
      "Epoch 7/30: 391it [00:20, 18.99it/s]\n"
     ]
    },
    {
     "name": "stdout",
     "output_type": "stream",
     "text": [
      "\n",
      "Epoch 7/30:\n",
      "Train Loss: 0.2732, Train Acc: 0.0988, Train F1: 0.0989\n",
      "Val Loss: 0.3049, Val Acc: 0.8875, Val F1: 0.8868\n"
     ]
    },
    {
     "name": "stderr",
     "output_type": "stream",
     "text": [
      "Epoch 8/30: 391it [00:19, 20.18it/s]\n"
     ]
    },
    {
     "name": "stdout",
     "output_type": "stream",
     "text": [
      "\n",
      "Epoch 8/30:\n",
      "Train Loss: 0.2627, Train Acc: 0.0989, Train F1: 0.0989\n",
      "Val Loss: 0.3087, Val Acc: 0.8898, Val F1: 0.8903\n"
     ]
    },
    {
     "name": "stderr",
     "output_type": "stream",
     "text": [
      "Epoch 9/30: 391it [00:23, 16.63it/s]\n"
     ]
    },
    {
     "name": "stdout",
     "output_type": "stream",
     "text": [
      "\n",
      "Epoch 9/30:\n",
      "Train Loss: 0.2541, Train Acc: 0.1033, Train F1: 0.1033\n",
      "Val Loss: 0.3062, Val Acc: 0.8927, Val F1: 0.8922\n"
     ]
    },
    {
     "name": "stderr",
     "output_type": "stream",
     "text": [
      "Epoch 10/30: 391it [00:25, 15.04it/s]\n"
     ]
    },
    {
     "name": "stdout",
     "output_type": "stream",
     "text": [
      "\n",
      "Epoch 10/30:\n",
      "Train Loss: 0.2424, Train Acc: 0.0993, Train F1: 0.0992\n",
      "Val Loss: 0.3088, Val Acc: 0.8895, Val F1: 0.8904\n"
     ]
    },
    {
     "name": "stderr",
     "output_type": "stream",
     "text": [
      "Epoch 11/30: 391it [00:24, 16.13it/s]\n"
     ]
    },
    {
     "name": "stdout",
     "output_type": "stream",
     "text": [
      "\n",
      "Epoch 11/30:\n",
      "Train Loss: 0.2324, Train Acc: 0.0990, Train F1: 0.0990\n",
      "Val Loss: 0.3068, Val Acc: 0.8910, Val F1: 0.8909\n"
     ]
    },
    {
     "name": "stderr",
     "output_type": "stream",
     "text": [
      "Epoch 12/30: 391it [00:21, 17.90it/s]\n"
     ]
    },
    {
     "name": "stdout",
     "output_type": "stream",
     "text": [
      "\n",
      "Epoch 12/30:\n",
      "Train Loss: 0.2257, Train Acc: 0.0973, Train F1: 0.0973\n",
      "Val Loss: 0.3029, Val Acc: 0.8914, Val F1: 0.8911\n"
     ]
    },
    {
     "name": "stderr",
     "output_type": "stream",
     "text": [
      "Epoch 13/30: 391it [00:20, 18.71it/s]\n"
     ]
    },
    {
     "name": "stdout",
     "output_type": "stream",
     "text": [
      "\n",
      "Epoch 13/30:\n",
      "Train Loss: 0.2214, Train Acc: 0.0990, Train F1: 0.0990\n",
      "Val Loss: 0.2932, Val Acc: 0.8962, Val F1: 0.8967\n"
     ]
    },
    {
     "name": "stderr",
     "output_type": "stream",
     "text": [
      "Epoch 14/30: 391it [00:23, 16.89it/s]\n"
     ]
    },
    {
     "name": "stdout",
     "output_type": "stream",
     "text": [
      "\n",
      "Epoch 14/30:\n",
      "Train Loss: 0.2116, Train Acc: 0.0979, Train F1: 0.0979\n",
      "Val Loss: 0.3059, Val Acc: 0.8935, Val F1: 0.8943\n"
     ]
    },
    {
     "name": "stderr",
     "output_type": "stream",
     "text": [
      "Epoch 15/30: 391it [00:18, 21.15it/s]\n"
     ]
    },
    {
     "name": "stdout",
     "output_type": "stream",
     "text": [
      "\n",
      "Epoch 15/30:\n",
      "Train Loss: 0.2033, Train Acc: 0.0987, Train F1: 0.0987\n",
      "Val Loss: 0.3005, Val Acc: 0.8957, Val F1: 0.8960\n"
     ]
    },
    {
     "name": "stderr",
     "output_type": "stream",
     "text": [
      "Epoch 16/30: 391it [00:19, 20.00it/s]\n"
     ]
    },
    {
     "name": "stdout",
     "output_type": "stream",
     "text": [
      "\n",
      "Epoch 16/30:\n",
      "Train Loss: 0.1986, Train Acc: 0.0958, Train F1: 0.0958\n",
      "Val Loss: 0.3042, Val Acc: 0.8951, Val F1: 0.8953\n"
     ]
    },
    {
     "name": "stderr",
     "output_type": "stream",
     "text": [
      "Epoch 17/30: 391it [00:19, 20.18it/s]\n"
     ]
    },
    {
     "name": "stdout",
     "output_type": "stream",
     "text": [
      "\n",
      "Epoch 17/30:\n",
      "Train Loss: 0.1916, Train Acc: 0.0978, Train F1: 0.0978\n",
      "Val Loss: 0.3146, Val Acc: 0.8964, Val F1: 0.8972\n"
     ]
    },
    {
     "name": "stderr",
     "output_type": "stream",
     "text": [
      "Epoch 18/30: 391it [00:19, 20.48it/s]\n"
     ]
    },
    {
     "name": "stdout",
     "output_type": "stream",
     "text": [
      "\n",
      "Epoch 18/30:\n",
      "Train Loss: 0.1878, Train Acc: 0.0991, Train F1: 0.0991\n",
      "Val Loss: 0.3138, Val Acc: 0.8961, Val F1: 0.8959\n"
     ]
    },
    {
     "name": "stderr",
     "output_type": "stream",
     "text": [
      "Epoch 19/30: 391it [00:22, 17.58it/s]\n"
     ]
    },
    {
     "name": "stdout",
     "output_type": "stream",
     "text": [
      "\n",
      "Epoch 19/30:\n",
      "Train Loss: 0.1780, Train Acc: 0.0999, Train F1: 0.0999\n",
      "Val Loss: 0.3217, Val Acc: 0.8959, Val F1: 0.8970\n"
     ]
    },
    {
     "name": "stderr",
     "output_type": "stream",
     "text": [
      "Epoch 20/30: 391it [00:21, 18.57it/s]\n"
     ]
    },
    {
     "name": "stdout",
     "output_type": "stream",
     "text": [
      "\n",
      "Epoch 20/30:\n",
      "Train Loss: 0.1732, Train Acc: 0.0998, Train F1: 0.0998\n",
      "Val Loss: 0.3214, Val Acc: 0.8951, Val F1: 0.8947\n"
     ]
    },
    {
     "name": "stderr",
     "output_type": "stream",
     "text": [
      "Epoch 21/30: 391it [00:22, 17.63it/s]\n"
     ]
    },
    {
     "name": "stdout",
     "output_type": "stream",
     "text": [
      "\n",
      "Epoch 21/30:\n",
      "Train Loss: 0.1713, Train Acc: 0.0997, Train F1: 0.0997\n",
      "Val Loss: 0.3351, Val Acc: 0.8928, Val F1: 0.8929\n"
     ]
    },
    {
     "name": "stderr",
     "output_type": "stream",
     "text": [
      "Epoch 22/30: 391it [00:20, 19.09it/s]\n"
     ]
    },
    {
     "name": "stdout",
     "output_type": "stream",
     "text": [
      "\n",
      "Epoch 22/30:\n",
      "Train Loss: 0.1691, Train Acc: 0.0991, Train F1: 0.0991\n",
      "Val Loss: 0.3127, Val Acc: 0.9026, Val F1: 0.9030\n"
     ]
    },
    {
     "name": "stderr",
     "output_type": "stream",
     "text": [
      "Epoch 23/30: 391it [00:23, 16.98it/s]\n"
     ]
    },
    {
     "name": "stdout",
     "output_type": "stream",
     "text": [
      "\n",
      "Epoch 23/30:\n",
      "Train Loss: 0.1633, Train Acc: 0.1023, Train F1: 0.1023\n",
      "Val Loss: 0.3205, Val Acc: 0.8998, Val F1: 0.9008\n"
     ]
    },
    {
     "name": "stderr",
     "output_type": "stream",
     "text": [
      "Epoch 24/30: 391it [00:20, 19.36it/s]\n"
     ]
    },
    {
     "name": "stdout",
     "output_type": "stream",
     "text": [
      "\n",
      "Epoch 24/30:\n",
      "Train Loss: 0.1582, Train Acc: 0.0991, Train F1: 0.0991\n",
      "Val Loss: 0.3361, Val Acc: 0.8943, Val F1: 0.8949\n"
     ]
    },
    {
     "name": "stderr",
     "output_type": "stream",
     "text": [
      "Epoch 25/30: 391it [00:20, 19.45it/s]\n"
     ]
    },
    {
     "name": "stdout",
     "output_type": "stream",
     "text": [
      "\n",
      "Epoch 25/30:\n",
      "Train Loss: 0.1542, Train Acc: 0.0983, Train F1: 0.0983\n",
      "Val Loss: 0.3277, Val Acc: 0.8992, Val F1: 0.8996\n"
     ]
    },
    {
     "name": "stderr",
     "output_type": "stream",
     "text": [
      "Epoch 26/30: 391it [00:22, 17.63it/s]\n"
     ]
    },
    {
     "name": "stdout",
     "output_type": "stream",
     "text": [
      "\n",
      "Epoch 26/30:\n",
      "Train Loss: 0.1491, Train Acc: 0.0994, Train F1: 0.0994\n",
      "Val Loss: 0.3326, Val Acc: 0.8995, Val F1: 0.8995\n"
     ]
    },
    {
     "name": "stderr",
     "output_type": "stream",
     "text": [
      "Epoch 27/30: 391it [00:21, 18.44it/s]\n"
     ]
    },
    {
     "name": "stdout",
     "output_type": "stream",
     "text": [
      "\n",
      "Epoch 27/30:\n",
      "Train Loss: 0.1450, Train Acc: 0.0990, Train F1: 0.0990\n",
      "Val Loss: 0.3444, Val Acc: 0.8978, Val F1: 0.8976\n"
     ]
    },
    {
     "name": "stderr",
     "output_type": "stream",
     "text": [
      "Epoch 28/30: 391it [00:21, 17.97it/s]\n"
     ]
    },
    {
     "name": "stdout",
     "output_type": "stream",
     "text": [
      "\n",
      "Epoch 28/30:\n",
      "Train Loss: 0.1384, Train Acc: 0.0999, Train F1: 0.0999\n",
      "Val Loss: 0.3555, Val Acc: 0.8959, Val F1: 0.8963\n"
     ]
    },
    {
     "name": "stderr",
     "output_type": "stream",
     "text": [
      "Epoch 29/30: 391it [00:21, 17.93it/s]\n"
     ]
    },
    {
     "name": "stdout",
     "output_type": "stream",
     "text": [
      "\n",
      "Epoch 29/30:\n",
      "Train Loss: 0.1378, Train Acc: 0.0975, Train F1: 0.0975\n",
      "Val Loss: 0.3436, Val Acc: 0.9009, Val F1: 0.9011\n"
     ]
    },
    {
     "name": "stderr",
     "output_type": "stream",
     "text": [
      "Epoch 30/30: 391it [00:22, 17.59it/s]\n"
     ]
    },
    {
     "name": "stdout",
     "output_type": "stream",
     "text": [
      "\n",
      "Epoch 30/30:\n",
      "Train Loss: 0.1351, Train Acc: 0.1016, Train F1: 0.1016\n",
      "Val Loss: 0.3484, Val Acc: 0.8971, Val F1: 0.8974\n",
      "Validation F1 Score: 0.8974\n"
     ]
    },
    {
     "data": {
      "image/png": "[encoded data removed]",
      "text/plain": [
       "<Figure size 1200x400 with 5 Axes>"
      ]
     },
     "metadata": {},
     "output_type": "display_data"
    },
    {
     "name": "stdout",
     "output_type": "stream",
     "text": [
      "\n",
      "Best model configuration: {'lr': 0.001, 'arch': {'hidden_dims': [512, 256], 'dropout_rate': 0.3}}\n",
      "Best validation F1 score: 0.8974\n"
     ]
    }
   ],
   "source": [
    "\n",
    "# Load and preprocess data\n",
    "(X_train, y_train), (X_test, y_test) = load_fashion_mnist()\n",
    "\n",
    "val_size = 10000\n",
    "X_val = X_train[-val_size:]\n",
    "y_val = y_train[-val_size:]\n",
    "X_train = X_train[:-val_size]\n",
    "y_train = y_train[:-val_size]\n",
    "\n",
    "\n",
    "# Train models with different learning rates and architectures\n",
    "learning_rates = [0.003,0.001, 0.0005, 0.002]\n",
    "# learning_rates = [0.001]\n",
    "\n",
    "architectures = [\n",
    "    {'hidden_dims': [512, 256], 'dropout_rate': 0.3},\n",
    "    {'hidden_dims': [1024, 512, 256], 'dropout_rate': 0.4},\n",
    "    {'hidden_dims': [256, 128], 'dropout_rate': 0.2}\n",
    "]\n",
    "# architectures = [\n",
    "#     {'hidden_dims': [512, 256], 'dropout_rate': 0.3}\n",
    "# ]\n",
    "\n",
    "\n",
    "results, best_model, best_config = find_best_model(learning_rates, architectures, X_train, y_train, X_val, y_val)\n"
   ]
  },
  {
   "cell_type": "markdown",
   "metadata": {},
   "source": [
    "# Evaluating on Test set"
   ]
  },
  {
   "cell_type": "code",
   "execution_count": null,
   "metadata": {},
   "outputs": [
    {
     "name": "stdout",
     "output_type": "stream",
     "text": [
      "Test Loss: 0.3745\n",
      "Test Accuracy: 0.8939\n",
      "Test F1 Score: 0.8939\n"
     ]
    },
    {
     "data": {
      "image/png": "[encoded data removed]",
      "text/plain": [
       "<Figure size 800x600 with 2 Axes>"
      ]
     },
     "metadata": {},
     "output_type": "display_data"
    }
   ],
   "source": [
    "# Load the best model configuration\n",
    "with open('1905065_best_model_config.pkl', 'rb') as f:\n",
    "    best_config = pickle.load(f)\n",
    "\n",
    "# Load the best model\n",
    "best_model = create_model(hidden_dims=best_config['arch']['hidden_dims'], dropout_rate=best_config['arch']['dropout_rate'], learning_rate=best_config['lr'])\n",
    "# print('layer size',len(best_model.layers))\n",
    "best_model.load_weights('1905065_best_model_weights.pkl')\n",
    "\n",
    "# Evaluate the model on the test set\n",
    "test_loss, test_acc, test_f1, test_predictions = evaluate(best_model, X_test, y_test)\n",
    "\n",
    "print(f\"Test Loss: {test_loss:.4f}\")\n",
    "print(f\"Test Accuracy: {test_acc:.4f}\")\n",
    "print(f\"Test F1 Score: {test_f1:.4f}\")\n",
    "\n",
    "# Print the confusion matrix\n",
    "cm = confusion_matrix(y_test, test_predictions)\n",
    "plt.figure(figsize=(8, 6))\n",
    "sns.heatmap(cm, annot=True, cmap='Blues', fmt='g')\n",
    "plt.title('Confusion Matrix')\n",
    "plt.xlabel('Predicted')\n",
    "plt.ylabel('Actual')\n",
    "plt.show()"
   ]
  }
 ],
 "metadata": {
  "kernelspec": {
   "display_name": "mindact-env",
   "language": "python",
   "name": "python3"
  },
  "language_info": {
   "codemirror_mode": {
    "name": "ipython",
    "version": 3
   },
   "file_extension": ".py",
   "mimetype": "text/x-python",
   "name": "python",
   "nbconvert_exporter": "python",
   "pygments_lexer": "ipython3",
   "version": "3.12.4"
  }
 },
 "nbformat": 4,
 "nbformat_minor": 2
}
